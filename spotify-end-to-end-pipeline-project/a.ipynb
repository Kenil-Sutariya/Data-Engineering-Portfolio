#Install Spotipy library, if it's not installed

!pip install spotipy
# Including Libraries

import spotipy
from spotipy.oauth2 import SpotifyClientCredentials
import pandas as pd
# Developer Credentiels: https://developer.spotify.com/

client_credentials_maanger = SpotifyClientCredentials(client_id="024f9447fa0a4dc18e89a226ed72e58a", client_secret="ff622de14bc148758e37c2e2d23bd87c")
# Creating a object of Spotipy
sp = spotipy.Spotify(client_credentials_manager= client_credentials_maanger)
# Here, We are using Global top 50 songs.

playlist_link = "https://open.spotify.com/playlist/37i9dQZEVXbNG2KDcFcKOF"
playlist_uri = playlist_link.split('/')[-1]   # they only want this last part of URL
playlist_uri
# Collecting Data from playlist URL

data = sp.playlist_tracks(playlist_uri)
print(f"total length of data {len(data['items'])}")
# Some Random Operations

data['items']
data['items'][0]['track']['album']['id']

data['items'][0]['track']['album']['name']
data['items'][0]['track']['album']['release_date']
data['items'][0]['track']['album']['total_tracks']
data['items'][0]['track']['album']['external_urls']['spotify']
# Creating Album List from Whole data

album_list = []

for row in data['items']:
    album_id = row['track']['album']['id']
    album_name = row['track']['album']['name']
    album_release_date = row['track']['album']['release_date']
    album_total_tracks = row['track']['album']['total_tracks']
    album_url = row['track']['album']['external_urls']['spotify']
    album_element = {'id': album_id, 'name': album_name, 'release_date': album_release_date, 'total_tracks': album_total_tracks, 'url': album_url}
    album_list.append(album_element)
    

album_list
data['items'][4]['track']['artists']
# Creating Artists List from Whole data

artists_list = []

for row in data['items']:
    for key, value in row.items():
        if key == 'track':
            for artists in value['artists']:
                artist_dict = {'artist_id': artists['id'], 'artist_name': artists['name'], 'external_url': artists['href']}
                artists_list.append(artist_dict)

artists_list
# Creating Songs List from Whole data

song_list = []

for row in data['items']:
    song_id = row['track']['id']
    song_name = row['track']['name']
    song_duration = row['track']['duration_ms']
    song_url = row['track']['external_urls']['spotify']
    song_popularity = row['track']['popularity']
    song_added = row['added_at']
    album_id = row['track']['album']['id']
    artist_id = row['track']['album']['artists'][0]['id']
    song_element = {'song_id': song_id, 'song_name': song_name, 'duration_ms': song_duration, 'url':song_url, 'popularity': song_popularity, 
                    'song_added':song_added, 'album_id': album_id, 'artist_id': artist_id}
    song_list.append(song_element)

song_list
# Converting album list into Dataframe

album_df = pd.DataFrame.from_dict(album_list)
album_df = album_df.drop_duplicates(subset=['id'])
album_df['release_date'] = pd.to_datetime(album_df['release_date'])

print(album_df.info())
album_df.head()
# Converting artists list into Dataframe

artist_df = pd.DataFrame.from_dict(artists_list)
artist_df = artist_df.drop_duplicates(subset=['artist_id'])
print(artist_df.info())
artist_df.head()
# Converting songs list into Dataframe

song_df = pd.DataFrame.from_dict(song_list)
song_df = song_df.drop_duplicates(subset=['song_id'])
song_df['song_added'] = pd.to_datetime(song_df['song_added'])
print(song_df.info())
song_df.head()
